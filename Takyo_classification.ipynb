{
 "cells": [
  {
   "cell_type": "code",
   "execution_count": 1,
   "id": "9a6ce590",
   "metadata": {},
   "outputs": [
    {
     "name": "stdout",
     "output_type": "stream",
     "text": [
      "(6193, 14)\n"
     ]
    },
    {
     "data": {
      "text/html": [
       "<div>\n",
       "<style scoped>\n",
       "    .dataframe tbody tr th:only-of-type {\n",
       "        vertical-align: middle;\n",
       "    }\n",
       "\n",
       "    .dataframe tbody tr th {\n",
       "        vertical-align: top;\n",
       "    }\n",
       "\n",
       "    .dataframe thead th {\n",
       "        text-align: right;\n",
       "    }\n",
       "</style>\n",
       "<table border=\"1\" class=\"dataframe\">\n",
       "  <thead>\n",
       "    <tr style=\"text-align: right;\">\n",
       "      <th></th>\n",
       "      <th>ORG</th>\n",
       "      <th>COMPSS</th>\n",
       "      <th>PITCH</th>\n",
       "      <th>ROLL</th>\n",
       "      <th>CLIFF</th>\n",
       "      <th>...</th>\n",
       "      <th>LASTRHT</th>\n",
       "      <th>LFTAVG</th>\n",
       "      <th>RHTAVG</th>\n",
       "      <th>DTURN</th>\n",
       "      <th>DDIR</th>\n",
       "    </tr>\n",
       "  </thead>\n",
       "  <tbody>\n",
       "    <tr>\n",
       "      <th>0</th>\n",
       "      <td>000</td>\n",
       "      <td>15</td>\n",
       "      <td>-1168</td>\n",
       "      <td>176</td>\n",
       "      <td>81</td>\n",
       "      <td>...</td>\n",
       "      <td>23134</td>\n",
       "      <td>0</td>\n",
       "      <td>0</td>\n",
       "      <td>0</td>\n",
       "      <td>FWD</td>\n",
       "    </tr>\n",
       "    <tr>\n",
       "      <th>1</th>\n",
       "      <td>101</td>\n",
       "      <td>201</td>\n",
       "      <td>-1200</td>\n",
       "      <td>160</td>\n",
       "      <td>72</td>\n",
       "      <td>...</td>\n",
       "      <td>23225</td>\n",
       "      <td>0</td>\n",
       "      <td>0</td>\n",
       "      <td>527</td>\n",
       "      <td>SLF</td>\n",
       "    </tr>\n",
       "    <tr>\n",
       "      <th>...</th>\n",
       "      <td>...</td>\n",
       "      <td>...</td>\n",
       "      <td>...</td>\n",
       "      <td>...</td>\n",
       "      <td>...</td>\n",
       "      <td>...</td>\n",
       "      <td>...</td>\n",
       "      <td>...</td>\n",
       "      <td>...</td>\n",
       "      <td>...</td>\n",
       "      <td>...</td>\n",
       "    </tr>\n",
       "    <tr>\n",
       "      <th>6191</th>\n",
       "      <td>001</td>\n",
       "      <td>221</td>\n",
       "      <td>-640</td>\n",
       "      <td>6336</td>\n",
       "      <td>82</td>\n",
       "      <td>...</td>\n",
       "      <td>14746</td>\n",
       "      <td>3447</td>\n",
       "      <td>4201</td>\n",
       "      <td>658</td>\n",
       "      <td>0RT</td>\n",
       "    </tr>\n",
       "    <tr>\n",
       "      <th>6192</th>\n",
       "      <td>000</td>\n",
       "      <td>173</td>\n",
       "      <td>-2272</td>\n",
       "      <td>3248</td>\n",
       "      <td>92</td>\n",
       "      <td>...</td>\n",
       "      <td>15915</td>\n",
       "      <td>3477</td>\n",
       "      <td>4201</td>\n",
       "      <td>0</td>\n",
       "      <td>FWD</td>\n",
       "    </tr>\n",
       "  </tbody>\n",
       "</table>\n",
       "<p>6193 rows × 14 columns</p>\n",
       "</div>"
      ],
      "text/plain": [
       "      ORG  COMPSS  PITCH  ROLL  CLIFF  ...  LASTRHT  LFTAVG  RHTAVG  DTURN  \\\n",
       "0     000      15  -1168   176     81  ...    23134       0       0      0   \n",
       "1     101     201  -1200   160     72  ...    23225       0       0    527   \n",
       "...   ...     ...    ...   ...    ...  ...      ...     ...     ...    ...   \n",
       "6191  001     221   -640  6336     82  ...    14746    3447    4201    658   \n",
       "6192  000     173  -2272  3248     92  ...    15915    3477    4201      0   \n",
       "\n",
       "      DDIR  \n",
       "0      FWD  \n",
       "1      SLF  \n",
       "...    ...  \n",
       "6191   0RT  \n",
       "6192   FWD  \n",
       "\n",
       "[6193 rows x 14 columns]"
      ]
     },
     "metadata": {},
     "output_type": "display_data"
    }
   ],
   "source": [
    "\n",
    "import pandas as pd\n",
    "import os\n",
    "import os.path\n",
    "import matplotlib.pyplot as plt\n",
    "\n",
    "full_file_path = os.path.join(os.getcwd(),\"rlog1.csv\")\n",
    "df = pd.read_csv(full_file_path, encoding=\"ISO-8859-1\", na_values=['NA','?'])\n",
    "\n",
    "pd.set_option('display.max_columns', 11) \n",
    "pd.set_option('display.max_rows', 5)\n",
    "print(df.shape)\n",
    "display(df)"
   ]
  },
  {
   "cell_type": "code",
   "execution_count": 2,
   "id": "51b15081",
   "metadata": {},
   "outputs": [
    {
     "name": "stdout",
     "output_type": "stream",
     "text": [
      "Filtered column indexes to lower: \n",
      "org\n",
      "compss\n",
      "pitch\n",
      "roll\n",
      "cliff\n",
      "lft\n",
      "ctr\n",
      "rht\n",
      "lastlft\n",
      "lastrht\n",
      "lftavg\n",
      "rhtavg\n",
      "dturn\n",
      "ddir\n"
     ]
    }
   ],
   "source": [
    "print(\"Filtered column indexes to lower: \")\n",
    "df.columns = [x.lower() for x in df.columns]\n",
    "for c in df.columns:\n",
    "    print(c)"
   ]
  },
  {
   "cell_type": "code",
   "execution_count": 4,
   "id": "0993ffb6",
   "metadata": {},
   "outputs": [
    {
     "name": "stdout",
     "output_type": "stream",
     "text": [
      "Unique codes for column: org :  10\n",
      "Code  Count\n",
      "000    2706\n",
      "001    1323\n",
      "100     988\n",
      "CTG     466\n",
      "010     365\n",
      "011     126\n",
      "TOF      77\n",
      "101      69\n",
      "111      37\n",
      "110      36\n",
      "Name: org, dtype: int64\n"
     ]
    }
   ],
   "source": [
    "# Count Categorical data input \n",
    "# This data needs some explanation\n",
    "#   000 no sensors hit\n",
    "#   001 sensor hit on the right\n",
    "#   100 sensor hit on the left\n",
    "#   010 sensor hit in the middle\n",
    "#   110 sensor hit on left and middle \n",
    "#   011 sensor hit on right and middle\n",
    "#   101 sensor hit on left and right\n",
    "#   111 all sensors hit\n",
    "#   TOF same as CLIFF this sensor detects if the ground is present \n",
    "#         it is an edge detection to prevent robot from going down stairs\n",
    "#   CTG Clear To Go this means the robot has not hit a sensor\n",
    "#         for quite some time, this causes the robot to randomly turn\n",
    "#        \n",
    "scolumn = \"org\"                 # org - original hit\n",
    "nunique = df[scolumn].nunique()\n",
    "vcounts = pd.value_counts(df[scolumn])\n",
    "print(\"Unique codes for column: \" + scolumn + \" : \", nunique)\n",
    "print(\"Code  Count\")\n",
    "pd.set_option('display.max_rows', 15)\n",
    "print(vcounts)"
   ]
  },
  {
   "cell_type": "code",
   "execution_count": 6,
   "id": "7826eaec",
   "metadata": {},
   "outputs": [
    {
     "name": "stdout",
     "output_type": "stream",
     "text": [
      "3528.6549559073865 3213.2766024333428\n"
     ]
    }
   ],
   "source": [
    "\n",
    "# when robot starts averages are 0 zero\n",
    "# fill them with the mean value\n",
    "leftmean = df['lftavg'].mean()\n",
    "rightmean = df['rhtavg'].mean()\n",
    "df['lftavg'] = df['lftavg'].replace(0, leftmean)\n",
    "df['rhtavg'] = df['rhtavg'].replace(0, rightmean)\n",
    "print(leftmean, rightmean)"
   ]
  },
  {
   "cell_type": "code",
   "execution_count": 8,
   "id": "6b7a587b",
   "metadata": {},
   "outputs": [
    {
     "name": "stdout",
     "output_type": "stream",
     "text": [
      "      in_000  in_001  in_010  in_011  ...  in_110  in_111  in_CTG  in_TOF\n",
      "0          1       0       0       0  ...       0       0       0       0\n",
      "1          0       0       0       0  ...       0       0       0       0\n",
      "2          1       0       0       0  ...       0       0       0       0\n",
      "3          0       0       0       0  ...       0       0       0       1\n",
      "4          1       0       0       0  ...       0       0       0       0\n",
      "...      ...     ...     ...     ...  ...     ...     ...     ...     ...\n",
      "6188       1       0       0       0  ...       0       0       0       0\n",
      "6189       0       1       0       0  ...       0       0       0       0\n",
      "6190       1       0       0       0  ...       0       0       0       0\n",
      "6191       0       1       0       0  ...       0       0       0       0\n",
      "6192       1       0       0       0  ...       0       0       0       0\n",
      "\n",
      "[6193 rows x 10 columns]\n"
     ]
    }
   ],
   "source": [
    "# Create dummies for Categorical input original hit - org\n",
    "dummies = pd.get_dummies(df['org'],prefix=\"in\")\n",
    "print(dummies)"
   ]
  },
  {
   "cell_type": "code",
   "execution_count": 9,
   "id": "09eb5740",
   "metadata": {},
   "outputs": [
    {
     "name": "stdout",
     "output_type": "stream",
     "text": [
      "['compss', 'pitch', 'roll', 'cliff', 'lft', 'ctr', 'rht', 'lastlft', 'lastrht', 'lftavg', 'rhtavg', 'ddir', 'in_000', 'in_001', 'in_010', 'in_011', 'in_100', 'in_101', 'in_110', 'in_111', 'in_CTG', 'in_TOF']\n"
     ]
    }
   ],
   "source": [
    "# preserve original dataframe for testing\n",
    "df2 = pd.concat([df,dummies],axis=1)  # concat dummies \n",
    "df2.drop('org', axis=1, inplace=True) # original hit\n",
    "# drop dturn 'decision turn' this is a turn delay time \n",
    "#   it a random number between range(300-1000)\n",
    "#   computed after turn type\n",
    "df2.drop('dturn',axis=1,inplace=True) \n",
    "print(list(df2.columns))"
   ]
  },
  {
   "cell_type": "code",
   "execution_count": 10,
   "id": "5d554d5d",
   "metadata": {},
   "outputs": [
    {
     "name": "stdout",
     "output_type": "stream",
     "text": [
      "Index(['compss', 'pitch', 'roll', 'cliff', 'lft', 'ctr', 'rht', 'lastlft',\n",
      "       'lastrht', 'lftavg', 'rhtavg', 'in_000', 'in_001', 'in_010', 'in_011',\n",
      "       'in_100', 'in_101', 'in_110', 'in_111', 'in_CTG', 'in_TOF'],\n",
      "      dtype='object')\n",
      "Index(['0LF', '0RT', '1LF', '1RT', 'ALF', 'ART', 'CCT', 'CLF', 'CRT', 'FWD',\n",
      "       'SLF'],\n",
      "      dtype='object')\n"
     ]
    }
   ],
   "source": [
    "\n",
    "from scipy.stats import zscore\n",
    "\n",
    "df2['compss'] = zscore(df2['compss'])   # compass heading in degrees 0-360\n",
    "df2['pitch'] = zscore(df2['pitch'])     # pitch \n",
    "df2['roll'] = zscore(df2['roll'])       # roll\n",
    "df2['cliff'] = zscore(df2['cliff'])     # edge detector alerts when ground is not sensed\n",
    "df2['lft'] = zscore(df2['lft'])         # infrared sensor left\n",
    "df2['ctr'] = zscore(df2['ctr'])         # ultrasonic sensor center\n",
    "df2['rht'] = zscore(df2['rht'])         # infrared sensor right\n",
    "df2['lastlft'] = zscore(df2['lastlft']) # time stamp - time since last hit\n",
    "df2['lastrht'] = zscore(df2['lastrht']) # time stamp - time since last hit\n",
    "df2['lftavg'] = zscore(df2['lftavg'])   # average of the last 20 hits\n",
    "df2['rhtavg'] = zscore(df2['rhtavg'])   # average of the last 20 hits\n",
    "\n",
    "# ddir or 'decision direction' is what we are trying to predict\n",
    "#          also called turntype\n",
    "x_columns = df2.columns.drop('ddir') \n",
    "x = df2[x_columns].values\n",
    "print(x_columns)\n",
    "\n",
    "# turntype or 'decision direction' is what we are trying to Classify\n",
    "dummies = pd.get_dummies(df2['ddir']) \n",
    "turntype = dummies.columns\n",
    "print(turntype)\n",
    "y = dummies.values\n"
   ]
  },
  {
   "cell_type": "code",
   "execution_count": 11,
   "id": "730a9e32",
   "metadata": {},
   "outputs": [
    {
     "name": "stdout",
     "output_type": "stream",
     "text": [
      "Epoch 1/1000\n",
      "146/146 - 2s - loss: 1.5485 - accuracy: 0.4627 - val_loss: 0.8610 - val_accuracy: 0.6875 - 2s/epoch - 11ms/step\n",
      "Epoch 2/1000\n",
      "146/146 - 0s - loss: 0.5543 - accuracy: 0.7855 - val_loss: 0.4386 - val_accuracy: 0.8638 - 331ms/epoch - 2ms/step\n",
      "Epoch 3/1000\n",
      "146/146 - 1s - loss: 0.3791 - accuracy: 0.8534 - val_loss: 0.3247 - val_accuracy: 0.8864 - 506ms/epoch - 3ms/step\n",
      "Epoch 4/1000\n",
      "146/146 - 0s - loss: 0.3011 - accuracy: 0.8745 - val_loss: 0.2550 - val_accuracy: 0.9038 - 305ms/epoch - 2ms/step\n",
      "Epoch 5/1000\n",
      "146/146 - 0s - loss: 0.2399 - accuracy: 0.8977 - val_loss: 0.2177 - val_accuracy: 0.9057 - 432ms/epoch - 3ms/step\n",
      "Epoch 6/1000\n",
      "146/146 - 0s - loss: 0.2156 - accuracy: 0.9061 - val_loss: 0.1925 - val_accuracy: 0.9251 - 290ms/epoch - 2ms/step\n",
      "Epoch 7/1000\n",
      "146/146 - 0s - loss: 0.1889 - accuracy: 0.9225 - val_loss: 0.1811 - val_accuracy: 0.9251 - 300ms/epoch - 2ms/step\n",
      "Epoch 8/1000\n",
      "146/146 - 0s - loss: 0.1751 - accuracy: 0.9274 - val_loss: 0.1747 - val_accuracy: 0.9361 - 296ms/epoch - 2ms/step\n",
      "Epoch 9/1000\n",
      "146/146 - 0s - loss: 0.1615 - accuracy: 0.9350 - val_loss: 0.1657 - val_accuracy: 0.9348 - 301ms/epoch - 2ms/step\n",
      "Epoch 10/1000\n",
      "146/146 - 0s - loss: 0.1515 - accuracy: 0.9425 - val_loss: 0.1380 - val_accuracy: 0.9548 - 320ms/epoch - 2ms/step\n",
      "Epoch 11/1000\n",
      "146/146 - 0s - loss: 0.1386 - accuracy: 0.9472 - val_loss: 0.1358 - val_accuracy: 0.9542 - 318ms/epoch - 2ms/step\n",
      "Epoch 12/1000\n",
      "146/146 - 0s - loss: 0.1352 - accuracy: 0.9477 - val_loss: 0.1281 - val_accuracy: 0.9542 - 314ms/epoch - 2ms/step\n",
      "Epoch 13/1000\n",
      "146/146 - 0s - loss: 0.1167 - accuracy: 0.9546 - val_loss: 0.1126 - val_accuracy: 0.9619 - 299ms/epoch - 2ms/step\n",
      "Epoch 14/1000\n",
      "146/146 - 0s - loss: 0.1040 - accuracy: 0.9621 - val_loss: 0.1161 - val_accuracy: 0.9593 - 312ms/epoch - 2ms/step\n",
      "Epoch 15/1000\n",
      "146/146 - 0s - loss: 0.1011 - accuracy: 0.9589 - val_loss: 0.1098 - val_accuracy: 0.9542 - 336ms/epoch - 2ms/step\n",
      "Epoch 16/1000\n",
      "146/146 - 0s - loss: 0.1011 - accuracy: 0.9599 - val_loss: 0.1145 - val_accuracy: 0.9555 - 322ms/epoch - 2ms/step\n",
      "Epoch 17/1000\n",
      "146/146 - 0s - loss: 0.0885 - accuracy: 0.9647 - val_loss: 0.0971 - val_accuracy: 0.9651 - 337ms/epoch - 2ms/step\n",
      "Epoch 18/1000\n",
      "146/146 - 0s - loss: 0.0832 - accuracy: 0.9662 - val_loss: 0.1071 - val_accuracy: 0.9561 - 403ms/epoch - 3ms/step\n",
      "Epoch 19/1000\n",
      "146/146 - 1s - loss: 0.0797 - accuracy: 0.9703 - val_loss: 0.0865 - val_accuracy: 0.9755 - 667ms/epoch - 5ms/step\n",
      "Epoch 20/1000\n",
      "146/146 - 1s - loss: 0.0751 - accuracy: 0.9711 - val_loss: 0.0864 - val_accuracy: 0.9697 - 643ms/epoch - 4ms/step\n",
      "Epoch 21/1000\n",
      "146/146 - 0s - loss: 0.0734 - accuracy: 0.9742 - val_loss: 0.0838 - val_accuracy: 0.9748 - 347ms/epoch - 2ms/step\n",
      "Epoch 22/1000\n",
      "146/146 - 0s - loss: 0.0634 - accuracy: 0.9763 - val_loss: 0.0878 - val_accuracy: 0.9709 - 376ms/epoch - 3ms/step\n",
      "Epoch 23/1000\n",
      "146/146 - 0s - loss: 0.0694 - accuracy: 0.9735 - val_loss: 0.0783 - val_accuracy: 0.9748 - 353ms/epoch - 2ms/step\n",
      "Epoch 24/1000\n",
      "146/146 - 0s - loss: 0.0612 - accuracy: 0.9774 - val_loss: 0.0773 - val_accuracy: 0.9729 - 401ms/epoch - 3ms/step\n",
      "Epoch 25/1000\n",
      "146/146 - 0s - loss: 0.0642 - accuracy: 0.9770 - val_loss: 0.0729 - val_accuracy: 0.9774 - 433ms/epoch - 3ms/step\n",
      "Epoch 26/1000\n",
      "146/146 - 0s - loss: 0.0583 - accuracy: 0.9791 - val_loss: 0.0706 - val_accuracy: 0.9800 - 388ms/epoch - 3ms/step\n",
      "Epoch 27/1000\n",
      "146/146 - 0s - loss: 0.0540 - accuracy: 0.9811 - val_loss: 0.0652 - val_accuracy: 0.9806 - 411ms/epoch - 3ms/step\n",
      "Epoch 28/1000\n",
      "146/146 - 0s - loss: 0.0494 - accuracy: 0.9823 - val_loss: 0.0665 - val_accuracy: 0.9793 - 387ms/epoch - 3ms/step\n",
      "Epoch 29/1000\n",
      "146/146 - 0s - loss: 0.0656 - accuracy: 0.9767 - val_loss: 0.0907 - val_accuracy: 0.9755 - 485ms/epoch - 3ms/step\n",
      "Epoch 30/1000\n",
      "146/146 - 0s - loss: 0.0500 - accuracy: 0.9813 - val_loss: 0.0848 - val_accuracy: 0.9716 - 499ms/epoch - 3ms/step\n",
      "Epoch 31/1000\n",
      "146/146 - 1s - loss: 0.0574 - accuracy: 0.9806 - val_loss: 0.0593 - val_accuracy: 0.9813 - 507ms/epoch - 3ms/step\n",
      "Epoch 32/1000\n",
      "146/146 - 0s - loss: 0.0423 - accuracy: 0.9847 - val_loss: 0.0644 - val_accuracy: 0.9793 - 421ms/epoch - 3ms/step\n",
      "Epoch 33/1000\n",
      "146/146 - 1s - loss: 0.0387 - accuracy: 0.9860 - val_loss: 0.0685 - val_accuracy: 0.9787 - 523ms/epoch - 4ms/step\n",
      "Epoch 34/1000\n",
      "146/146 - 1s - loss: 0.0390 - accuracy: 0.9866 - val_loss: 0.0636 - val_accuracy: 0.9755 - 673ms/epoch - 5ms/step\n",
      "Epoch 35/1000\n",
      "146/146 - 1s - loss: 0.0331 - accuracy: 0.9888 - val_loss: 0.0680 - val_accuracy: 0.9768 - 551ms/epoch - 4ms/step\n",
      "Epoch 36/1000\n",
      "Restoring model weights from the end of the best epoch: 31.\n",
      "146/146 - 1s - loss: 0.0355 - accuracy: 0.9890 - val_loss: 0.0799 - val_accuracy: 0.9781 - 574ms/epoch - 4ms/step\n",
      "Epoch 36: early stopping\n"
     ]
    },
    {
     "data": {
      "text/plain": [
       "<keras.callbacks.History at 0x25c2e118190>"
      ]
     },
     "execution_count": 11,
     "metadata": {},
     "output_type": "execute_result"
    }
   ],
   "source": [
    "# Classification neural network\n",
    "import tensorflow as tf\n",
    "from tensorflow import keras\n",
    "from sklearn.model_selection import train_test_split\n",
    "\n",
    "# Split into train/test\n",
    "x_train, x_test, y_train, y_test = train_test_split(    \n",
    "    x, y, test_size=0.25, random_state=42)\n",
    "\n",
    "model = tf.keras.Sequential()\n",
    "model.add(tf.keras.layers.Dense(100, input_dim=x.shape[1], activation='relu',\n",
    "                kernel_initializer='random_normal'))\n",
    "model.add(tf.keras.layers.Dense(50,activation='relu',kernel_initializer='random_normal'))\n",
    "model.add(tf.keras.layers.Dense(25,activation='relu',kernel_initializer='random_normal'))\n",
    "model.add(tf.keras.layers.Dense(y.shape[1],activation='softmax',\n",
    "                kernel_initializer='random_normal'))\n",
    "model.compile(loss='categorical_crossentropy', optimizer='adam',\n",
    "                metrics =['accuracy'])\n",
    "monitor = tf.keras.callbacks.EarlyStopping(monitor='val_loss', min_delta=1e-3, patience=5, \n",
    "                        verbose=1, mode='auto', restore_best_weights=True)\n",
    "model.fit(x_train,y_train,validation_data=(x_test,y_test),\n",
    "          callbacks=[monitor],verbose=2,epochs=1000)"
   ]
  },
  {
   "cell_type": "code",
   "execution_count": 12,
   "id": "ad43933b",
   "metadata": {},
   "outputs": [
    {
     "name": "stdout",
     "output_type": "stream",
     "text": [
      "49/49 [==============================] - 0s 2ms/step\n",
      "Accuracy score: 0.9812782440284055\n"
     ]
    }
   ],
   "source": [
    "import numpy as np\n",
    "pred = model.predict(x_test)\n",
    "pred = np.argmax(pred,axis=1) \n",
    "# raw probabilities to chosen class (highest probability)\n",
    "from sklearn import metrics\n",
    "\n",
    "y_compare = np.argmax(y_test,axis=1) \n",
    "score = metrics.accuracy_score(y_compare, pred)\n",
    "print(\"Accuracy score: {}\".format(score))"
   ]
  },
  {
   "cell_type": "code",
   "execution_count": 13,
   "id": "e63982fd",
   "metadata": {},
   "outputs": [
    {
     "name": "stdout",
     "output_type": "stream",
     "text": [
      "49/49 [==============================] - 0s 2ms/step\n",
      "Numpy array of predictions\n"
     ]
    },
    {
     "data": {
      "text/plain": [
       "array([[0.    , 0.    , 0.    , 0.    , 0.    , 0.    , 0.    , 0.    ,\n",
       "        0.    , 1.    , 0.    ],\n",
       "       [0.    , 0.    , 0.    , 0.    , 0.    , 0.    , 0.    , 0.    ,\n",
       "        0.    , 1.    , 0.    ],\n",
       "       [0.9996, 0.0004, 0.    , 0.    , 0.    , 0.    , 0.    , 0.    ,\n",
       "        0.    , 0.    , 0.    ],\n",
       "       [0.    , 0.    , 0.    , 0.    , 0.    , 0.    , 0.    , 0.    ,\n",
       "        0.    , 1.    , 0.    ],\n",
       "       [0.    , 0.    , 0.    , 0.    , 0.    , 0.    , 0.    , 0.    ,\n",
       "        0.    , 1.    , 0.    ]], dtype=float32)"
      ]
     },
     "metadata": {},
     "output_type": "display_data"
    },
    {
     "name": "stdout",
     "output_type": "stream",
     "text": [
      "As percent probability\n",
      "[  0.   0.   0.   0.   0.   0.   0.   0.   0. 100.   0.]\n",
      "Log loss score: 0.059337719530161426\n"
     ]
    }
   ],
   "source": [
    "from IPython.display import display\n",
    "\n",
    "# Don't display numpy in scientific notation\n",
    "np.set_printoptions(precision=4)\n",
    "np.set_printoptions(suppress=True)\n",
    "\n",
    "# Generate predictions\n",
    "pred = model.predict(x_test)\n",
    "\n",
    "print(\"Numpy array of predictions\")\n",
    "display(pred[0:5])\n",
    "\n",
    "print(\"As percent probability\")\n",
    "print(pred[0]*100)\n",
    "\n",
    "score = metrics.log_loss(y_test, pred)\n",
    "print(\"Log loss score: {}\".format(score))\n",
    "\n",
    "# raw probabilities to chosen class (highest probability)\n",
    "pred = np.argmax(pred,axis=1) "
   ]
  },
  {
   "cell_type": "code",
   "execution_count": 17,
   "id": "bd527cc2",
   "metadata": {},
   "outputs": [
    {
     "name": "stderr",
     "output_type": "stream",
     "text": [
      "C:\\Users\\zeust\\AppData\\Local\\Temp\\ipykernel_4484\\4219149612.py:8: RuntimeWarning: divide by zero encountered in log\n",
      "  ax1.plot(t, np.log(t))\n"
     ]
    },
    {
     "data": {
      "image/png": "[encoded data removed]",
      "text/plain": [
       "<Figure size 1200x1000 with 1 Axes>"
      ]
     },
     "metadata": {},
     "output_type": "display_data"
    }
   ],
   "source": [
    "from matplotlib.pyplot import figure, show\n",
    "from numpy import arange, sin, pi\n",
    "\n",
    "t = arange(0.0, 1.0, 0.00001)  # data     scientists\n",
    "fig = figure(1,figsize=(12, 10))\n",
    "\n",
    "ax1 = fig.add_subplot(211)\n",
    "ax1.plot(t, np.log(t))\n",
    "ax1.grid(True)\n",
    "ax1.set_ylim((-8, 1.5))\n",
    "ax1.set_xlim((-0.1, 2))\n",
    "ax1.set_xlabel('x')\n",
    "ax1.set_ylabel('y')\n",
    "ax1.set_title('log(x)')\n",
    "\n",
    "show()"
   ]
  },
  {
   "cell_type": "code",
   "execution_count": 16,
   "id": "403c4dd9",
   "metadata": {},
   "outputs": [
    {
     "name": "stdout",
     "output_type": "stream",
     "text": [
      "Normalized confusion matrix\n",
      "[[0.96 0.04 0.   0.   0.   0.   0.   0.   0.   0.  ]\n",
      " [0.01 0.99 0.   0.   0.   0.   0.   0.   0.   0.  ]\n",
      " [0.   0.01 0.99 0.   0.   0.   0.   0.   0.   0.  ]\n",
      " [0.   0.02 0.   0.98 0.   0.   0.   0.   0.   0.  ]\n",
      " [0.   0.   0.   0.   0.62 0.38 0.   0.   0.   0.  ]\n",
      " [0.   0.   0.   0.   0.   1.   0.   0.   0.   0.  ]\n",
      " [0.   0.   0.   0.   0.   0.   0.8  0.   0.2  0.  ]\n",
      " [0.   0.   0.   0.   0.   0.   0.05 0.92 0.03 0.  ]\n",
      " [0.   0.   0.   0.   0.   0.   0.   0.06 0.94 0.  ]\n",
      " [0.   0.   0.   0.   0.   0.   0.   0.   0.   1.  ]]\n",
      "(10, 10)\n"
     ]
    },
    {
     "data": {
      "image/png": "[encoded data removed]",
      "text/plain": [
       "<Figure size 640x480 with 2 Axes>"
      ]
     },
     "metadata": {},
     "output_type": "display_data"
    }
   ],
   "source": [
    "\n",
    "from sklearn import svm, datasets\n",
    "from sklearn.model_selection import train_test_split\n",
    "#from sklearn.metrics import confusion_matrix\n",
    "from sklearn import metrics\n",
    "\n",
    "# Compute confusion matrix\n",
    "cm = metrics.confusion_matrix(y_compare, pred)\n",
    "np.set_printoptions(precision=2)\n",
    "\n",
    "# Normalize the confusion matrix by row (i.e by the number of samples\n",
    "# in each class)\n",
    "cm_normalized = cm.astype('float') / cm.sum(axis=1)[:, np.newaxis]\n",
    "print('Normalized confusion matrix')\n",
    "print(cm_normalized)\n",
    "print(cm_normalized.shape)\n",
    "cm_display = metrics.ConfusionMatrixDisplay(confusion_matrix=cm_normalized)\n",
    "cm_display.plot()\n",
    "plt.show()"
   ]
  }
 ],
 "metadata": {
  "kernelspec": {
   "display_name": "myvenv",
   "language": "python",
   "name": "python3"
  },
  "language_info": {
   "codemirror_mode": {
    "name": "ipython",
    "version": 3
   },
   "file_extension": ".py",
   "mimetype": "text/x-python",
   "name": "python",
   "nbconvert_exporter": "python",
   "pygments_lexer": "ipython3",
   "version": "3.10.10"
  },
  "vscode": {
   "interpreter": {
    "hash": "ec7d94e9204ec760bc77d3286f185d123c772dee90baf763f2e61f9c34d211cb"
   }
  }
 },
 "nbformat": 4,
 "nbformat_minor": 5
}
