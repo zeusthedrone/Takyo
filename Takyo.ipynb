{
 "cells": [
  {
   "cell_type": "code",
   "execution_count": 1,
   "id": "9a6ce590",
   "metadata": {},
   "outputs": [
    {
     "name": "stdout",
     "output_type": "stream",
     "text": [
      "(6193, 14)\n"
     ]
    },
    {
     "data": {
      "text/html": [
       "<div>\n",
       "<style scoped>\n",
       "    .dataframe tbody tr th:only-of-type {\n",
       "        vertical-align: middle;\n",
       "    }\n",
       "\n",
       "    .dataframe tbody tr th {\n",
       "        vertical-align: top;\n",
       "    }\n",
       "\n",
       "    .dataframe thead th {\n",
       "        text-align: right;\n",
       "    }\n",
       "</style>\n",
       "<table border=\"1\" class=\"dataframe\">\n",
       "  <thead>\n",
       "    <tr style=\"text-align: right;\">\n",
       "      <th></th>\n",
       "      <th>ORG</th>\n",
       "      <th>COMPSS</th>\n",
       "      <th>PITCH</th>\n",
       "      <th>ROLL</th>\n",
       "      <th>CLIFF</th>\n",
       "      <th>...</th>\n",
       "      <th>LASTRHT</th>\n",
       "      <th>LFTAVG</th>\n",
       "      <th>RHTAVG</th>\n",
       "      <th>DTURN</th>\n",
       "      <th>DDIR</th>\n",
       "    </tr>\n",
       "  </thead>\n",
       "  <tbody>\n",
       "    <tr>\n",
       "      <th>0</th>\n",
       "      <td>000</td>\n",
       "      <td>15</td>\n",
       "      <td>-1168</td>\n",
       "      <td>176</td>\n",
       "      <td>81</td>\n",
       "      <td>...</td>\n",
       "      <td>23134</td>\n",
       "      <td>0</td>\n",
       "      <td>0</td>\n",
       "      <td>0</td>\n",
       "      <td>FWD</td>\n",
       "    </tr>\n",
       "    <tr>\n",
       "      <th>1</th>\n",
       "      <td>101</td>\n",
       "      <td>201</td>\n",
       "      <td>-1200</td>\n",
       "      <td>160</td>\n",
       "      <td>72</td>\n",
       "      <td>...</td>\n",
       "      <td>23225</td>\n",
       "      <td>0</td>\n",
       "      <td>0</td>\n",
       "      <td>527</td>\n",
       "      <td>SLF</td>\n",
       "    </tr>\n",
       "    <tr>\n",
       "      <th>...</th>\n",
       "      <td>...</td>\n",
       "      <td>...</td>\n",
       "      <td>...</td>\n",
       "      <td>...</td>\n",
       "      <td>...</td>\n",
       "      <td>...</td>\n",
       "      <td>...</td>\n",
       "      <td>...</td>\n",
       "      <td>...</td>\n",
       "      <td>...</td>\n",
       "      <td>...</td>\n",
       "    </tr>\n",
       "    <tr>\n",
       "      <th>6191</th>\n",
       "      <td>001</td>\n",
       "      <td>221</td>\n",
       "      <td>-640</td>\n",
       "      <td>6336</td>\n",
       "      <td>82</td>\n",
       "      <td>...</td>\n",
       "      <td>14746</td>\n",
       "      <td>3447</td>\n",
       "      <td>4201</td>\n",
       "      <td>658</td>\n",
       "      <td>0RT</td>\n",
       "    </tr>\n",
       "    <tr>\n",
       "      <th>6192</th>\n",
       "      <td>000</td>\n",
       "      <td>173</td>\n",
       "      <td>-2272</td>\n",
       "      <td>3248</td>\n",
       "      <td>92</td>\n",
       "      <td>...</td>\n",
       "      <td>15915</td>\n",
       "      <td>3477</td>\n",
       "      <td>4201</td>\n",
       "      <td>0</td>\n",
       "      <td>FWD</td>\n",
       "    </tr>\n",
       "  </tbody>\n",
       "</table>\n",
       "<p>6193 rows × 14 columns</p>\n",
       "</div>"
      ],
      "text/plain": [
       "      ORG  COMPSS  PITCH  ROLL  CLIFF  ...  LASTRHT  LFTAVG  RHTAVG  DTURN  \\\n",
       "0     000      15  -1168   176     81  ...    23134       0       0      0   \n",
       "1     101     201  -1200   160     72  ...    23225       0       0    527   \n",
       "...   ...     ...    ...   ...    ...  ...      ...     ...     ...    ...   \n",
       "6191  001     221   -640  6336     82  ...    14746    3447    4201    658   \n",
       "6192  000     173  -2272  3248     92  ...    15915    3477    4201      0   \n",
       "\n",
       "      DDIR  \n",
       "0      FWD  \n",
       "1      SLF  \n",
       "...    ...  \n",
       "6191   0RT  \n",
       "6192   FWD  \n",
       "\n",
       "[6193 rows x 14 columns]"
      ]
     },
     "metadata": {},
     "output_type": "display_data"
    }
   ],
   "source": [
    "\n",
    "import pandas as pd\n",
    "import os\n",
    "import os.path\n",
    "import matplotlib.pyplot as plt\n",
    "\n",
    "full_file_path = os.path.join(os.getcwd(),\"rlog1.csv\")\n",
    "df = pd.read_csv(full_file_path, encoding=\"ISO-8859-1\", na_values=['NA','?'])\n",
    "\n",
    "pd.set_option('display.max_columns', 11) \n",
    "pd.set_option('display.max_rows', 5)\n",
    "print(df.shape)\n",
    "display(df)"
   ]
  },
  {
   "cell_type": "code",
   "execution_count": 2,
   "id": "51b15081",
   "metadata": {},
   "outputs": [
    {
     "name": "stdout",
     "output_type": "stream",
     "text": [
      "Filtered column indexes to lower: \n",
      "org\n",
      "compss\n",
      "pitch\n",
      "roll\n",
      "cliff\n",
      "lft\n",
      "ctr\n",
      "rht\n",
      "lastlft\n",
      "lastrht\n",
      "lftavg\n",
      "rhtavg\n",
      "dturn\n",
      "ddir\n"
     ]
    }
   ],
   "source": [
    "print(\"Filtered column indexes to lower: \")\n",
    "df.columns = [x.lower() for x in df.columns]\n",
    "for c in df.columns:\n",
    "    print(c)"
   ]
  },
  {
   "cell_type": "code",
   "execution_count": 3,
   "id": "0993ffb6",
   "metadata": {},
   "outputs": [
    {
     "name": "stdout",
     "output_type": "stream",
     "text": [
      "Unique codes for column: org :  10\n",
      "Code  Count\n",
      "000    2706\n",
      "001    1323\n",
      "100     988\n",
      "CTG     466\n",
      "010     365\n",
      "011     126\n",
      "TOF      77\n",
      "101      69\n",
      "111      37\n",
      "110      36\n",
      "Name: org, dtype: int64\n"
     ]
    }
   ],
   "source": [
    "# Count Categorical data input \n",
    "# This data needs some explanation\n",
    "#   000 no sensors hit\n",
    "#   001 sensor hit on the right\n",
    "#   100 sensor hit on the left\n",
    "#   010 sensor hit in the middle\n",
    "#   110 sensor hit on left and middle \n",
    "#   011 sensor hit on right and middle\n",
    "#   101 sensor hit on left and right\n",
    "#   111 all sensors hit\n",
    "#   TOF same as CLIFF this sensor detects if the ground is present \n",
    "#         it is an edge detection to prevent robot from going down stairs\n",
    "#   CTG Clear To Go this means the robot has not hit a sensor\n",
    "#         for quite some time, this causes the robot to randomly turn\n",
    "#        \n",
    "scolumn = \"org\"                 # org - original hit\n",
    "nunique = df[scolumn].nunique()\n",
    "vcounts = pd.value_counts(df[scolumn])\n",
    "print(\"Unique codes for column: \" + scolumn + \" : \", nunique)\n",
    "print(\"Code  Count\")\n",
    "pd.set_option('display.max_rows', 15)\n",
    "print(vcounts)"
   ]
  },
  {
   "cell_type": "code",
   "execution_count": 4,
   "id": "7826eaec",
   "metadata": {},
   "outputs": [
    {
     "name": "stdout",
     "output_type": "stream",
     "text": [
      "3507.135314064266 3210.166478281931\n"
     ]
    }
   ],
   "source": [
    "\n",
    "# when robot starts averages are 0 zero\n",
    "# fill them with the mean value\n",
    "leftmean = df['lftavg'].mean()\n",
    "rightmean = df['rhtavg'].mean()\n",
    "df['lftavg'] = df['lftavg'].replace(0, leftmean)\n",
    "df['rhtavg'] = df['rhtavg'].replace(0, rightmean)\n",
    "print(leftmean, rightmean)"
   ]
  },
  {
   "cell_type": "code",
   "execution_count": 5,
   "id": "6b7a587b",
   "metadata": {},
   "outputs": [
    {
     "name": "stdout",
     "output_type": "stream",
     "text": [
      "      in_000  in_001  in_010  in_011  in_100  in_101  in_110  in_111  in_CTG  \\\n",
      "0          1       0       0       0       0       0       0       0       0   \n",
      "1          0       0       0       0       0       1       0       0       0   \n",
      "2          1       0       0       0       0       0       0       0       0   \n",
      "3          0       0       0       0       0       0       0       0       0   \n",
      "4          1       0       0       0       0       0       0       0       0   \n",
      "...      ...     ...     ...     ...     ...     ...     ...     ...     ...   \n",
      "6188       1       0       0       0       0       0       0       0       0   \n",
      "6189       0       1       0       0       0       0       0       0       0   \n",
      "6190       1       0       0       0       0       0       0       0       0   \n",
      "6191       0       1       0       0       0       0       0       0       0   \n",
      "6192       1       0       0       0       0       0       0       0       0   \n",
      "\n",
      "      in_TOF  \n",
      "0          0  \n",
      "1          0  \n",
      "2          0  \n",
      "3          1  \n",
      "4          0  \n",
      "...      ...  \n",
      "6188       0  \n",
      "6189       0  \n",
      "6190       0  \n",
      "6191       0  \n",
      "6192       0  \n",
      "\n",
      "[6193 rows x 10 columns]\n"
     ]
    }
   ],
   "source": [
    "# Create dummies for Categorical input original hit - org\n",
    "dummies = pd.get_dummies(df['org'],prefix=\"in\")\n",
    "print(dummies)"
   ]
  },
  {
   "cell_type": "code",
   "execution_count": 6,
   "id": "09eb5740",
   "metadata": {},
   "outputs": [
    {
     "name": "stdout",
     "output_type": "stream",
     "text": [
      "['compss', 'pitch', 'roll', 'cliff', 'lft', 'ctr', 'rht', 'lastlft', 'lastrht', 'lftavg', 'rhtavg', 'ddir', 'in_000', 'in_001', 'in_010', 'in_011', 'in_100', 'in_101', 'in_110', 'in_111', 'in_CTG', 'in_TOF']\n"
     ]
    }
   ],
   "source": [
    "# preserve original dataframe for testing\n",
    "df2 = pd.concat([df,dummies],axis=1)  # concat dummies \n",
    "df2.drop('org', axis=1, inplace=True) # original hit\n",
    "# drop dturn 'decision turn' this is a turn delay time \n",
    "#   it a random number between range(300-1000)\n",
    "#   computed after turn type\n",
    "df2.drop('dturn',axis=1,inplace=True) \n",
    "print(list(df2.columns))"
   ]
  },
  {
   "cell_type": "code",
   "execution_count": 7,
   "id": "5d554d5d",
   "metadata": {},
   "outputs": [
    {
     "name": "stdout",
     "output_type": "stream",
     "text": [
      "Index(['compss', 'pitch', 'roll', 'cliff', 'lft', 'ctr', 'rht', 'lastlft',\n",
      "       'lastrht', 'lftavg', 'rhtavg', 'in_000', 'in_001', 'in_010', 'in_011',\n",
      "       'in_100', 'in_101', 'in_110', 'in_111', 'in_CTG', 'in_TOF'],\n",
      "      dtype='object')\n",
      "Index(['0LF', '0RT', '1LF', '1RT', 'ALF', 'ART', 'CCT', 'CLF', 'CRT', 'FWD',\n",
      "       'SLF'],\n",
      "      dtype='object')\n"
     ]
    }
   ],
   "source": [
    "\n",
    "from scipy.stats import zscore\n",
    "\n",
    "df2['compss'] = zscore(df2['compss'])   # compass heading in degrees 0-360\n",
    "df2['pitch'] = zscore(df2['pitch'])     # pitch \n",
    "df2['roll'] = zscore(df2['roll'])       # roll\n",
    "df2['cliff'] = zscore(df2['cliff'])     # edge detector alerts when ground is not sensed\n",
    "df2['lft'] = zscore(df2['lft'])         # infrared sensor left\n",
    "df2['ctr'] = zscore(df2['ctr'])         # ultrasonic sensor center\n",
    "df2['rht'] = zscore(df2['rht'])         # infrared sensor right\n",
    "df2['lastlft'] = zscore(df2['lastlft']) # time stamp - time since last hit\n",
    "df2['lastrht'] = zscore(df2['lastrht']) # time stamp - time since last hit\n",
    "df2['lftavg'] = zscore(df2['lftavg'])   # average of the last 20 hits\n",
    "df2['rhtavg'] = zscore(df2['rhtavg'])   # average of the last 20 hits\n",
    "\n",
    "# ddir or 'decision direction' is what we are trying to predict\n",
    "#          also called turntype\n",
    "x_columns = df2.columns.drop('ddir') \n",
    "x = df2[x_columns].values\n",
    "print(x_columns)\n",
    "\n",
    "# turntype or 'decision direction' is what we are trying to Classify\n",
    "dummies = pd.get_dummies(df2['ddir']) \n",
    "turntype = dummies.columns\n",
    "print(turntype)\n",
    "y = dummies.values\n"
   ]
  },
  {
   "cell_type": "code",
   "execution_count": 8,
   "id": "730a9e32",
   "metadata": {},
   "outputs": [
    {
     "name": "stdout",
     "output_type": "stream",
     "text": [
      "Epoch 1/1000\n",
      "146/146 - 2s - loss: 1.4814 - accuracy: 0.5273 - val_loss: 0.8034 - val_accuracy: 0.6985 - 2s/epoch - 11ms/step\n",
      "Epoch 2/1000\n",
      "146/146 - 0s - loss: 0.5901 - accuracy: 0.7537 - val_loss: 0.4934 - val_accuracy: 0.8089 - 319ms/epoch - 2ms/step\n",
      "Epoch 3/1000\n",
      "146/146 - 0s - loss: 0.4053 - accuracy: 0.8363 - val_loss: 0.3385 - val_accuracy: 0.8618 - 386ms/epoch - 3ms/step\n",
      "Epoch 4/1000\n",
      "146/146 - 0s - loss: 0.3172 - accuracy: 0.8650 - val_loss: 0.2825 - val_accuracy: 0.8832 - 364ms/epoch - 2ms/step\n",
      "Epoch 5/1000\n",
      "146/146 - 0s - loss: 0.2748 - accuracy: 0.8829 - val_loss: 0.2511 - val_accuracy: 0.8954 - 307ms/epoch - 2ms/step\n",
      "Epoch 6/1000\n",
      "146/146 - 0s - loss: 0.2291 - accuracy: 0.9018 - val_loss: 0.2096 - val_accuracy: 0.9180 - 360ms/epoch - 2ms/step\n",
      "Epoch 7/1000\n",
      "146/146 - 0s - loss: 0.2052 - accuracy: 0.9190 - val_loss: 0.2038 - val_accuracy: 0.9012 - 346ms/epoch - 2ms/step\n",
      "Epoch 8/1000\n",
      "146/146 - 0s - loss: 0.1856 - accuracy: 0.9210 - val_loss: 0.1821 - val_accuracy: 0.9225 - 349ms/epoch - 2ms/step\n",
      "Epoch 9/1000\n",
      "146/146 - 0s - loss: 0.1663 - accuracy: 0.9371 - val_loss: 0.1733 - val_accuracy: 0.9348 - 354ms/epoch - 2ms/step\n",
      "Epoch 10/1000\n",
      "146/146 - 0s - loss: 0.1515 - accuracy: 0.9408 - val_loss: 0.1548 - val_accuracy: 0.9451 - 363ms/epoch - 2ms/step\n",
      "Epoch 11/1000\n",
      "146/146 - 0s - loss: 0.1410 - accuracy: 0.9492 - val_loss: 0.1589 - val_accuracy: 0.9329 - 330ms/epoch - 2ms/step\n",
      "Epoch 12/1000\n",
      "146/146 - 0s - loss: 0.1394 - accuracy: 0.9477 - val_loss: 0.1511 - val_accuracy: 0.9490 - 336ms/epoch - 2ms/step\n",
      "Epoch 13/1000\n",
      "146/146 - 0s - loss: 0.1228 - accuracy: 0.9543 - val_loss: 0.1278 - val_accuracy: 0.9587 - 358ms/epoch - 2ms/step\n",
      "Epoch 14/1000\n",
      "146/146 - 0s - loss: 0.1116 - accuracy: 0.9561 - val_loss: 0.1234 - val_accuracy: 0.9580 - 327ms/epoch - 2ms/step\n",
      "Epoch 15/1000\n",
      "146/146 - 0s - loss: 0.1071 - accuracy: 0.9584 - val_loss: 0.1106 - val_accuracy: 0.9645 - 348ms/epoch - 2ms/step\n",
      "Epoch 16/1000\n",
      "146/146 - 0s - loss: 0.0972 - accuracy: 0.9615 - val_loss: 0.1024 - val_accuracy: 0.9697 - 367ms/epoch - 3ms/step\n",
      "Epoch 17/1000\n",
      "146/146 - 0s - loss: 0.0882 - accuracy: 0.9645 - val_loss: 0.1063 - val_accuracy: 0.9606 - 321ms/epoch - 2ms/step\n",
      "Epoch 18/1000\n",
      "146/146 - 0s - loss: 0.0875 - accuracy: 0.9608 - val_loss: 0.0985 - val_accuracy: 0.9703 - 354ms/epoch - 2ms/step\n",
      "Epoch 19/1000\n",
      "146/146 - 0s - loss: 0.0833 - accuracy: 0.9683 - val_loss: 0.0966 - val_accuracy: 0.9638 - 364ms/epoch - 2ms/step\n",
      "Epoch 20/1000\n",
      "146/146 - 0s - loss: 0.0746 - accuracy: 0.9718 - val_loss: 0.0934 - val_accuracy: 0.9671 - 335ms/epoch - 2ms/step\n",
      "Epoch 21/1000\n",
      "146/146 - 0s - loss: 0.0740 - accuracy: 0.9688 - val_loss: 0.0894 - val_accuracy: 0.9684 - 353ms/epoch - 2ms/step\n",
      "Epoch 22/1000\n",
      "146/146 - 0s - loss: 0.0730 - accuracy: 0.9729 - val_loss: 0.0874 - val_accuracy: 0.9703 - 350ms/epoch - 2ms/step\n",
      "Epoch 23/1000\n",
      "146/146 - 0s - loss: 0.0679 - accuracy: 0.9748 - val_loss: 0.0786 - val_accuracy: 0.9735 - 322ms/epoch - 2ms/step\n",
      "Epoch 24/1000\n",
      "146/146 - 0s - loss: 0.0622 - accuracy: 0.9755 - val_loss: 0.0761 - val_accuracy: 0.9716 - 365ms/epoch - 3ms/step\n",
      "Epoch 25/1000\n",
      "146/146 - 0s - loss: 0.0547 - accuracy: 0.9798 - val_loss: 0.0930 - val_accuracy: 0.9697 - 433ms/epoch - 3ms/step\n",
      "Epoch 26/1000\n",
      "146/146 - 0s - loss: 0.0589 - accuracy: 0.9795 - val_loss: 0.0888 - val_accuracy: 0.9729 - 340ms/epoch - 2ms/step\n",
      "Epoch 27/1000\n",
      "146/146 - 0s - loss: 0.0516 - accuracy: 0.9813 - val_loss: 0.1000 - val_accuracy: 0.9684 - 354ms/epoch - 2ms/step\n",
      "Epoch 28/1000\n",
      "146/146 - 0s - loss: 0.0501 - accuracy: 0.9815 - val_loss: 0.0904 - val_accuracy: 0.9716 - 402ms/epoch - 3ms/step\n",
      "Epoch 29/1000\n",
      "146/146 - 0s - loss: 0.0426 - accuracy: 0.9860 - val_loss: 0.0736 - val_accuracy: 0.9787 - 347ms/epoch - 2ms/step\n",
      "Epoch 30/1000\n",
      "146/146 - 0s - loss: 0.0421 - accuracy: 0.9856 - val_loss: 0.0670 - val_accuracy: 0.9806 - 345ms/epoch - 2ms/step\n",
      "Epoch 31/1000\n",
      "146/146 - 0s - loss: 0.0414 - accuracy: 0.9845 - val_loss: 0.0866 - val_accuracy: 0.9722 - 380ms/epoch - 3ms/step\n",
      "Epoch 32/1000\n",
      "146/146 - 0s - loss: 0.0428 - accuracy: 0.9851 - val_loss: 0.0921 - val_accuracy: 0.9645 - 336ms/epoch - 2ms/step\n",
      "Epoch 33/1000\n",
      "146/146 - 0s - loss: 0.0348 - accuracy: 0.9866 - val_loss: 0.1081 - val_accuracy: 0.9555 - 376ms/epoch - 3ms/step\n",
      "Epoch 34/1000\n",
      "146/146 - 0s - loss: 0.0566 - accuracy: 0.9815 - val_loss: 0.1118 - val_accuracy: 0.9574 - 395ms/epoch - 3ms/step\n",
      "Epoch 35/1000\n",
      "Restoring model weights from the end of the best epoch: 30.\n",
      "146/146 - 0s - loss: 0.0532 - accuracy: 0.9828 - val_loss: 0.0774 - val_accuracy: 0.9729 - 382ms/epoch - 3ms/step\n",
      "Epoch 35: early stopping\n"
     ]
    }
   ],
   "source": [
    "# Classification neural network\n",
    "import tensorflow as tf\n",
    "from tensorflow import keras\n",
    "from sklearn.model_selection import train_test_split\n",
    "\n",
    "# Split into train/test\n",
    "x_train, x_test, y_train, y_test = train_test_split(    \n",
    "    x, y, test_size=0.25, random_state=42)\n",
    "\n",
    "model = tf.keras.Sequential()\n",
    "model.add(tf.keras.layers.Dense(100, input_dim=x.shape[1], activation='relu',\n",
    "                kernel_initializer='random_normal'))\n",
    "model.add(tf.keras.layers.Dense(50,activation='relu',kernel_initializer='random_normal'))\n",
    "model.add(tf.keras.layers.Dense(25,activation='relu',kernel_initializer='random_normal'))\n",
    "model.add(tf.keras.layers.Dense(y.shape[1],activation='softmax',\n",
    "                kernel_initializer='random_normal'))\n",
    "model.compile(loss='categorical_crossentropy', optimizer='adam',\n",
    "                metrics =['accuracy'])\n",
    "monitor = tf.keras.callbacks.EarlyStopping(monitor='val_loss', min_delta=1e-3, patience=5, \n",
    "                        verbose=1, mode='auto', restore_best_weights=True)\n",
    "modelHistory = model.fit(x_train,y_train,validation_data=(x_test,y_test),\n",
    "          callbacks=[monitor],verbose=2,epochs=1000)"
   ]
  },
  {
   "cell_type": "code",
   "execution_count": 10,
   "id": "13edb96e",
   "metadata": {},
   "outputs": [
    {
     "data": {
      "image/png": "[encoded data removed]",
      "text/plain": [
       "<Figure size 640x480 with 1 Axes>"
      ]
     },
     "metadata": {},
     "output_type": "display_data"
    }
   ],
   "source": [
    "#from tf.keras.callbacks import History\n",
    "def plotGraph(history: tf.keras.callbacks.History, modelName = 'Model Accuracy'):\n",
    "  plt.plot(history.history['accuracy'])\n",
    "  plt.plot(history.history['val_accuracy'])\n",
    "  plt.title(modelName)\n",
    "  plt.ylabel('Accuracy')\n",
    "  plt.xlabel('Epoch')\n",
    "  plt.legend(['Train','Validation'], loc='upper left')\n",
    "  plt.show()\n",
    "plotGraph(modelHistory,\"Takyo Model\")\n",
    "converter = tf.lite.TFLiteConverter.from_keras_model(model)\n",
    "tflite_model = converter.convert()\n",
    "with open(\"TakyoModel.tflite\", \"wb\") as f:\n",
    "  f.write(tflite_model)"
   ]
  },
  {
   "cell_type": "code",
   "execution_count": 11,
   "id": "087cba25",
   "metadata": {},
   "outputs": [
    {
     "name": "stdout",
     "output_type": "stream",
     "text": [
      "Model: \"sequential\"\n",
      "_________________________________________________________________\n",
      " Layer (type)                Output Shape              Param #   \n",
      "=================================================================\n",
      " dense (Dense)               (None, 100)               2200      \n",
      "                                                                 \n",
      " dense_1 (Dense)             (None, 50)                5050      \n",
      "                                                                 \n",
      " dense_2 (Dense)             (None, 25)                1275      \n",
      "                                                                 \n",
      " dense_3 (Dense)             (None, 11)                286       \n",
      "                                                                 \n",
      "=================================================================\n",
      "Total params: 8,811\n",
      "Trainable params: 8,811\n",
      "Non-trainable params: 0\n",
      "_________________________________________________________________\n"
     ]
    }
   ],
   "source": [
    "model.summary()"
   ]
  },
  {
   "cell_type": "code",
   "execution_count": 12,
   "id": "ad43933b",
   "metadata": {},
   "outputs": [
    {
     "name": "stdout",
     "output_type": "stream",
     "text": [
      "49/49 [==============================] - 0s 1ms/step\n",
      "Accuracy score: 0.9806326662362814\n"
     ]
    }
   ],
   "source": [
    "import numpy as np\n",
    "pred = model.predict(x_test)\n",
    "pred = np.argmax(pred,axis=1) \n",
    "# raw probabilities to chosen class (highest probability)\n",
    "from sklearn import metrics\n",
    "\n",
    "y_compare = np.argmax(y_test,axis=1) \n",
    "score = metrics.accuracy_score(y_compare, pred)\n",
    "print(\"Accuracy score: {}\".format(score))"
   ]
  },
  {
   "cell_type": "code",
   "execution_count": 13,
   "id": "e63982fd",
   "metadata": {},
   "outputs": [
    {
     "name": "stdout",
     "output_type": "stream",
     "text": [
      "49/49 [==============================] - 0s 1ms/step\n",
      "Numpy array of predictions\n"
     ]
    },
    {
     "data": {
      "text/plain": [
       "array([[0.    , 0.    , 0.    , 0.    , 0.    , 0.    , 0.    , 0.    ,\n",
       "        0.    , 1.    , 0.    ],\n",
       "       [0.    , 0.    , 0.    , 0.    , 0.    , 0.    , 0.    , 0.    ,\n",
       "        0.    , 1.    , 0.    ],\n",
       "       [0.9989, 0.0011, 0.    , 0.    , 0.    , 0.    , 0.    , 0.    ,\n",
       "        0.    , 0.    , 0.    ],\n",
       "       [0.    , 0.    , 0.    , 0.    , 0.    , 0.    , 0.    , 0.    ,\n",
       "        0.    , 1.    , 0.    ],\n",
       "       [0.    , 0.    , 0.    , 0.    , 0.    , 0.    , 0.    , 0.    ,\n",
       "        0.0008, 0.9992, 0.    ]], dtype=float32)"
      ]
     },
     "metadata": {},
     "output_type": "display_data"
    },
    {
     "name": "stdout",
     "output_type": "stream",
     "text": [
      "As percent probability\n",
      "[  0.   0.   0.   0.   0.   0.   0.   0.   0. 100.   0.]\n",
      "Log loss score: 0.06702232282597514\n"
     ]
    }
   ],
   "source": [
    "from IPython.display import display\n",
    "\n",
    "# Don't display numpy in scientific notation\n",
    "np.set_printoptions(precision=4)\n",
    "np.set_printoptions(suppress=True)\n",
    "\n",
    "# Generate predictions\n",
    "pred = model.predict(x_test)\n",
    "\n",
    "print(\"Numpy array of predictions\")\n",
    "display(pred[0:5])\n",
    "\n",
    "print(\"As percent probability\")\n",
    "print(pred[0]*100)\n",
    "\n",
    "score = metrics.log_loss(y_test, pred)\n",
    "print(\"Log loss score: {}\".format(score))\n",
    "\n",
    "# raw probabilities to chosen class (highest probability)\n",
    "pred = np.argmax(pred,axis=1) "
   ]
  },
  {
   "cell_type": "code",
   "execution_count": 14,
   "id": "403c4dd9",
   "metadata": {},
   "outputs": [
    {
     "name": "stdout",
     "output_type": "stream",
     "text": [
      "Normalized confusion matrix\n",
      "[[0.95 0.05 0.   0.   0.   0.   0.   0.   0.   0.  ]\n",
      " [0.   0.99 0.   0.01 0.   0.   0.   0.   0.   0.  ]\n",
      " [0.   0.   0.99 0.   0.01 0.   0.   0.   0.   0.  ]\n",
      " [0.   0.02 0.02 0.96 0.   0.   0.   0.   0.   0.  ]\n",
      " [0.   0.   0.   0.   0.88 0.12 0.   0.   0.   0.  ]\n",
      " [0.   0.   0.   0.   0.08 0.77 0.   0.   0.15 0.  ]\n",
      " [0.   0.   0.   0.   0.   0.   0.93 0.07 0.   0.  ]\n",
      " [0.   0.   0.   0.   0.   0.   0.04 0.96 0.   0.  ]\n",
      " [0.   0.   0.   0.   0.   0.   0.06 0.06 0.89 0.  ]\n",
      " [0.   0.   0.   0.   0.   0.   0.   0.   0.   1.  ]]\n",
      "(10, 10)\n"
     ]
    },
    {
     "data": {
      "image/png": "[encoded data removed]",
      "text/plain": [
       "<Figure size 640x480 with 2 Axes>"
      ]
     },
     "metadata": {},
     "output_type": "display_data"
    }
   ],
   "source": [
    "\n",
    "from sklearn import svm, datasets\n",
    "from sklearn.model_selection import train_test_split\n",
    "#from sklearn.metrics import confusion_matrix\n",
    "from sklearn import metrics\n",
    "\n",
    "# Compute confusion matrix\n",
    "cm = metrics.confusion_matrix(y_compare, pred)\n",
    "np.set_printoptions(precision=2)\n",
    "\n",
    "# Normalize the confusion matrix by row (i.e by the number of samples\n",
    "# in each class)\n",
    "cm_normalized = cm.astype('float') / cm.sum(axis=1)[:, np.newaxis]\n",
    "print('Normalized confusion matrix')\n",
    "print(cm_normalized)\n",
    "print(cm_normalized.shape)\n",
    "cm_display = metrics.ConfusionMatrixDisplay(confusion_matrix=cm_normalized)\n",
    "cm_display.plot()\n",
    "plt.show()"
   ]
  }
 ],
 "metadata": {
  "kernelspec": {
   "display_name": "myvenv",
   "language": "python",
   "name": "python3"
  },
  "language_info": {
   "codemirror_mode": {
    "name": "ipython",
    "version": 3
   },
   "file_extension": ".py",
   "mimetype": "text/x-python",
   "name": "python",
   "nbconvert_exporter": "python",
   "pygments_lexer": "ipython3",
   "version": "3.10.11"
  },
  "vscode": {
   "interpreter": {
    "hash": "ec7d94e9204ec760bc77d3286f185d123c772dee90baf763f2e61f9c34d211cb"
   }
  }
 },
 "nbformat": 4,
 "nbformat_minor": 5
}
